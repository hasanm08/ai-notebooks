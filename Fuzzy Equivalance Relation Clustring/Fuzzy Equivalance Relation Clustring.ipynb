{
  "cells": [
    {
      "cell_type": "markdown",
      "metadata": {
        "id": "5lg_8Y84bQNd"
      },
      "source": [
        "#Preprocessing"
      ]
    },
    {
      "cell_type": "code",
      "execution_count": 1,
      "metadata": {
        "id": "dgXslpLb6vin"
      },
      "outputs": [],
      "source": [
        "import pandas as pd\n",
        "df=pd.read_csv('/content/hcvdat0 (1).csv')"
      ]
    },
    {
      "cell_type": "code",
      "execution_count": 2,
      "metadata": {
        "id": "3FwbSb9BLPOR"
      },
      "outputs": [],
      "source": [
        "df=df.dropna()"
      ]
    },
    {
      "cell_type": "code",
      "execution_count": 3,
      "metadata": {
        "colab": {
          "base_uri": "https://localhost:8080/",
          "height": 423
        },
        "id": "5f6HqdB7LZqH",
        "outputId": "3895647b-1669-4fa0-a006-c23a793cefa0"
      },
      "outputs": [
        {
          "output_type": "execute_result",
          "data": {
            "text/html": [
              "\n",
              "  <div id=\"df-b7deb1dd-f112-4b84-a856-3872b486f742\">\n",
              "    <div class=\"colab-df-container\">\n",
              "      <div>\n",
              "<style scoped>\n",
              "    .dataframe tbody tr th:only-of-type {\n",
              "        vertical-align: middle;\n",
              "    }\n",
              "\n",
              "    .dataframe tbody tr th {\n",
              "        vertical-align: top;\n",
              "    }\n",
              "\n",
              "    .dataframe thead th {\n",
              "        text-align: right;\n",
              "    }\n",
              "</style>\n",
              "<table border=\"1\" class=\"dataframe\">\n",
              "  <thead>\n",
              "    <tr style=\"text-align: right;\">\n",
              "      <th></th>\n",
              "      <th>Unnamed: 0</th>\n",
              "      <th>Category</th>\n",
              "      <th>Age</th>\n",
              "      <th>Sex</th>\n",
              "      <th>ALB</th>\n",
              "      <th>ALP</th>\n",
              "      <th>ALT</th>\n",
              "      <th>AST</th>\n",
              "      <th>BIL</th>\n",
              "      <th>CHE</th>\n",
              "      <th>CHOL</th>\n",
              "      <th>CREA</th>\n",
              "      <th>GGT</th>\n",
              "      <th>PROT</th>\n",
              "    </tr>\n",
              "  </thead>\n",
              "  <tbody>\n",
              "    <tr>\n",
              "      <th>37</th>\n",
              "      <td>38</td>\n",
              "      <td>0=Blood Donor</td>\n",
              "      <td>35</td>\n",
              "      <td>m</td>\n",
              "      <td>48.7</td>\n",
              "      <td>72.7</td>\n",
              "      <td>24.1</td>\n",
              "      <td>31.0</td>\n",
              "      <td>45.1</td>\n",
              "      <td>9.40</td>\n",
              "      <td>3.80</td>\n",
              "      <td>90.0</td>\n",
              "      <td>20.0</td>\n",
              "      <td>75.8</td>\n",
              "    </tr>\n",
              "    <tr>\n",
              "      <th>351</th>\n",
              "      <td>352</td>\n",
              "      <td>0=Blood Donor</td>\n",
              "      <td>35</td>\n",
              "      <td>f</td>\n",
              "      <td>44.7</td>\n",
              "      <td>83.2</td>\n",
              "      <td>25.3</td>\n",
              "      <td>22.6</td>\n",
              "      <td>3.9</td>\n",
              "      <td>8.02</td>\n",
              "      <td>5.73</td>\n",
              "      <td>68.0</td>\n",
              "      <td>10.8</td>\n",
              "      <td>76.4</td>\n",
              "    </tr>\n",
              "    <tr>\n",
              "      <th>373</th>\n",
              "      <td>374</td>\n",
              "      <td>0=Blood Donor</td>\n",
              "      <td>41</td>\n",
              "      <td>f</td>\n",
              "      <td>42.4</td>\n",
              "      <td>51.3</td>\n",
              "      <td>16.3</td>\n",
              "      <td>18.3</td>\n",
              "      <td>4.0</td>\n",
              "      <td>6.68</td>\n",
              "      <td>4.24</td>\n",
              "      <td>65.0</td>\n",
              "      <td>17.1</td>\n",
              "      <td>71.9</td>\n",
              "    </tr>\n",
              "    <tr>\n",
              "      <th>31</th>\n",
              "      <td>32</td>\n",
              "      <td>0=Blood Donor</td>\n",
              "      <td>34</td>\n",
              "      <td>m</td>\n",
              "      <td>46.1</td>\n",
              "      <td>70.6</td>\n",
              "      <td>35.8</td>\n",
              "      <td>30.0</td>\n",
              "      <td>7.6</td>\n",
              "      <td>7.70</td>\n",
              "      <td>4.20</td>\n",
              "      <td>93.0</td>\n",
              "      <td>14.3</td>\n",
              "      <td>78.7</td>\n",
              "    </tr>\n",
              "    <tr>\n",
              "      <th>190</th>\n",
              "      <td>191</td>\n",
              "      <td>0=Blood Donor</td>\n",
              "      <td>49</td>\n",
              "      <td>m</td>\n",
              "      <td>44.4</td>\n",
              "      <td>63.3</td>\n",
              "      <td>13.5</td>\n",
              "      <td>16.4</td>\n",
              "      <td>7.3</td>\n",
              "      <td>11.19</td>\n",
              "      <td>4.49</td>\n",
              "      <td>73.0</td>\n",
              "      <td>13.6</td>\n",
              "      <td>72.3</td>\n",
              "    </tr>\n",
              "    <tr>\n",
              "      <th>...</th>\n",
              "      <td>...</td>\n",
              "      <td>...</td>\n",
              "      <td>...</td>\n",
              "      <td>...</td>\n",
              "      <td>...</td>\n",
              "      <td>...</td>\n",
              "      <td>...</td>\n",
              "      <td>...</td>\n",
              "      <td>...</td>\n",
              "      <td>...</td>\n",
              "      <td>...</td>\n",
              "      <td>...</td>\n",
              "      <td>...</td>\n",
              "      <td>...</td>\n",
              "    </tr>\n",
              "    <tr>\n",
              "      <th>610</th>\n",
              "      <td>611</td>\n",
              "      <td>3=Cirrhosis</td>\n",
              "      <td>62</td>\n",
              "      <td>f</td>\n",
              "      <td>32.0</td>\n",
              "      <td>416.6</td>\n",
              "      <td>5.9</td>\n",
              "      <td>110.3</td>\n",
              "      <td>50.0</td>\n",
              "      <td>5.57</td>\n",
              "      <td>6.30</td>\n",
              "      <td>55.7</td>\n",
              "      <td>650.9</td>\n",
              "      <td>68.5</td>\n",
              "    </tr>\n",
              "    <tr>\n",
              "      <th>260</th>\n",
              "      <td>261</td>\n",
              "      <td>0=Blood Donor</td>\n",
              "      <td>57</td>\n",
              "      <td>m</td>\n",
              "      <td>43.5</td>\n",
              "      <td>56.2</td>\n",
              "      <td>60.4</td>\n",
              "      <td>37.3</td>\n",
              "      <td>7.3</td>\n",
              "      <td>6.79</td>\n",
              "      <td>5.99</td>\n",
              "      <td>110.0</td>\n",
              "      <td>185.2</td>\n",
              "      <td>71.8</td>\n",
              "    </tr>\n",
              "    <tr>\n",
              "      <th>184</th>\n",
              "      <td>185</td>\n",
              "      <td>0=Blood Donor</td>\n",
              "      <td>48</td>\n",
              "      <td>m</td>\n",
              "      <td>46.4</td>\n",
              "      <td>64.1</td>\n",
              "      <td>29.3</td>\n",
              "      <td>27.6</td>\n",
              "      <td>13.2</td>\n",
              "      <td>10.07</td>\n",
              "      <td>8.28</td>\n",
              "      <td>98.0</td>\n",
              "      <td>28.9</td>\n",
              "      <td>83.3</td>\n",
              "    </tr>\n",
              "    <tr>\n",
              "      <th>7</th>\n",
              "      <td>8</td>\n",
              "      <td>0=Blood Donor</td>\n",
              "      <td>32</td>\n",
              "      <td>m</td>\n",
              "      <td>42.2</td>\n",
              "      <td>41.9</td>\n",
              "      <td>35.8</td>\n",
              "      <td>31.1</td>\n",
              "      <td>16.1</td>\n",
              "      <td>5.82</td>\n",
              "      <td>4.60</td>\n",
              "      <td>109.0</td>\n",
              "      <td>21.5</td>\n",
              "      <td>67.1</td>\n",
              "    </tr>\n",
              "    <tr>\n",
              "      <th>56</th>\n",
              "      <td>57</td>\n",
              "      <td>0=Blood Donor</td>\n",
              "      <td>37</td>\n",
              "      <td>m</td>\n",
              "      <td>41.5</td>\n",
              "      <td>64.6</td>\n",
              "      <td>23.7</td>\n",
              "      <td>29.9</td>\n",
              "      <td>9.3</td>\n",
              "      <td>5.49</td>\n",
              "      <td>3.97</td>\n",
              "      <td>100.0</td>\n",
              "      <td>10.4</td>\n",
              "      <td>69.3</td>\n",
              "    </tr>\n",
              "  </tbody>\n",
              "</table>\n",
              "<p>589 rows × 14 columns</p>\n",
              "</div>\n",
              "      <button class=\"colab-df-convert\" onclick=\"convertToInteractive('df-b7deb1dd-f112-4b84-a856-3872b486f742')\"\n",
              "              title=\"Convert this dataframe to an interactive table.\"\n",
              "              style=\"display:none;\">\n",
              "        \n",
              "  <svg xmlns=\"http://www.w3.org/2000/svg\" height=\"24px\"viewBox=\"0 0 24 24\"\n",
              "       width=\"24px\">\n",
              "    <path d=\"M0 0h24v24H0V0z\" fill=\"none\"/>\n",
              "    <path d=\"M18.56 5.44l.94 2.06.94-2.06 2.06-.94-2.06-.94-.94-2.06-.94 2.06-2.06.94zm-11 1L8.5 8.5l.94-2.06 2.06-.94-2.06-.94L8.5 2.5l-.94 2.06-2.06.94zm10 10l.94 2.06.94-2.06 2.06-.94-2.06-.94-.94-2.06-.94 2.06-2.06.94z\"/><path d=\"M17.41 7.96l-1.37-1.37c-.4-.4-.92-.59-1.43-.59-.52 0-1.04.2-1.43.59L10.3 9.45l-7.72 7.72c-.78.78-.78 2.05 0 2.83L4 21.41c.39.39.9.59 1.41.59.51 0 1.02-.2 1.41-.59l7.78-7.78 2.81-2.81c.8-.78.8-2.07 0-2.86zM5.41 20L4 18.59l7.72-7.72 1.47 1.35L5.41 20z\"/>\n",
              "  </svg>\n",
              "      </button>\n",
              "      \n",
              "  <style>\n",
              "    .colab-df-container {\n",
              "      display:flex;\n",
              "      flex-wrap:wrap;\n",
              "      gap: 12px;\n",
              "    }\n",
              "\n",
              "    .colab-df-convert {\n",
              "      background-color: #E8F0FE;\n",
              "      border: none;\n",
              "      border-radius: 50%;\n",
              "      cursor: pointer;\n",
              "      display: none;\n",
              "      fill: #1967D2;\n",
              "      height: 32px;\n",
              "      padding: 0 0 0 0;\n",
              "      width: 32px;\n",
              "    }\n",
              "\n",
              "    .colab-df-convert:hover {\n",
              "      background-color: #E2EBFA;\n",
              "      box-shadow: 0px 1px 2px rgba(60, 64, 67, 0.3), 0px 1px 3px 1px rgba(60, 64, 67, 0.15);\n",
              "      fill: #174EA6;\n",
              "    }\n",
              "\n",
              "    [theme=dark] .colab-df-convert {\n",
              "      background-color: #3B4455;\n",
              "      fill: #D2E3FC;\n",
              "    }\n",
              "\n",
              "    [theme=dark] .colab-df-convert:hover {\n",
              "      background-color: #434B5C;\n",
              "      box-shadow: 0px 1px 3px 1px rgba(0, 0, 0, 0.15);\n",
              "      filter: drop-shadow(0px 1px 2px rgba(0, 0, 0, 0.3));\n",
              "      fill: #FFFFFF;\n",
              "    }\n",
              "  </style>\n",
              "\n",
              "      <script>\n",
              "        const buttonEl =\n",
              "          document.querySelector('#df-b7deb1dd-f112-4b84-a856-3872b486f742 button.colab-df-convert');\n",
              "        buttonEl.style.display =\n",
              "          google.colab.kernel.accessAllowed ? 'block' : 'none';\n",
              "\n",
              "        async function convertToInteractive(key) {\n",
              "          const element = document.querySelector('#df-b7deb1dd-f112-4b84-a856-3872b486f742');\n",
              "          const dataTable =\n",
              "            await google.colab.kernel.invokeFunction('convertToInteractive',\n",
              "                                                     [key], {});\n",
              "          if (!dataTable) return;\n",
              "\n",
              "          const docLinkHtml = 'Like what you see? Visit the ' +\n",
              "            '<a target=\"_blank\" href=https://colab.research.google.com/notebooks/data_table.ipynb>data table notebook</a>'\n",
              "            + ' to learn more about interactive tables.';\n",
              "          element.innerHTML = '';\n",
              "          dataTable['output_type'] = 'display_data';\n",
              "          await google.colab.output.renderOutput(dataTable, element);\n",
              "          const docLink = document.createElement('div');\n",
              "          docLink.innerHTML = docLinkHtml;\n",
              "          element.appendChild(docLink);\n",
              "        }\n",
              "      </script>\n",
              "    </div>\n",
              "  </div>\n",
              "  "
            ],
            "text/plain": [
              "     Unnamed: 0       Category  Age Sex   ALB  ...    CHE  CHOL   CREA    GGT  PROT\n",
              "37           38  0=Blood Donor   35   m  48.7  ...   9.40  3.80   90.0   20.0  75.8\n",
              "351         352  0=Blood Donor   35   f  44.7  ...   8.02  5.73   68.0   10.8  76.4\n",
              "373         374  0=Blood Donor   41   f  42.4  ...   6.68  4.24   65.0   17.1  71.9\n",
              "31           32  0=Blood Donor   34   m  46.1  ...   7.70  4.20   93.0   14.3  78.7\n",
              "190         191  0=Blood Donor   49   m  44.4  ...  11.19  4.49   73.0   13.6  72.3\n",
              "..          ...            ...  ...  ..   ...  ...    ...   ...    ...    ...   ...\n",
              "610         611    3=Cirrhosis   62   f  32.0  ...   5.57  6.30   55.7  650.9  68.5\n",
              "260         261  0=Blood Donor   57   m  43.5  ...   6.79  5.99  110.0  185.2  71.8\n",
              "184         185  0=Blood Donor   48   m  46.4  ...  10.07  8.28   98.0   28.9  83.3\n",
              "7             8  0=Blood Donor   32   m  42.2  ...   5.82  4.60  109.0   21.5  67.1\n",
              "56           57  0=Blood Donor   37   m  41.5  ...   5.49  3.97  100.0   10.4  69.3\n",
              "\n",
              "[589 rows x 14 columns]"
            ]
          },
          "metadata": {},
          "execution_count": 3
        }
      ],
      "source": [
        "df=df.sample(frac=1)\n",
        "df"
      ]
    },
    {
      "cell_type": "code",
      "execution_count": 4,
      "metadata": {
        "id": "VPD9yBRKZwjU"
      },
      "outputs": [],
      "source": [
        "def normalize(df):\n",
        "    result = df.copy()\n",
        "    for feature_name in ['Age','ALB','ALP','ALT','AST','BIL','CHE','CHOL',\"CREA\",\"GGT\",'PROT']:\n",
        "        max_value = df[feature_name].max()\n",
        "        min_value = df[feature_name].min()\n",
        "        result[feature_name] = (df[feature_name] - min_value) / (max_value - min_value)\n",
        "    return result"
      ]
    },
    {
      "cell_type": "code",
      "execution_count": 5,
      "metadata": {
        "colab": {
          "base_uri": "https://localhost:8080/",
          "height": 641
        },
        "id": "81CQFVX-L3Dw",
        "outputId": "2e755799-3065-44db-a4b3-54e6e979ba47"
      },
      "outputs": [
        {
          "output_type": "execute_result",
          "data": {
            "text/html": [
              "\n",
              "  <div id=\"df-ced871b1-2a97-4fe3-8004-21ecba051f6c\">\n",
              "    <div class=\"colab-df-container\">\n",
              "      <div>\n",
              "<style scoped>\n",
              "    .dataframe tbody tr th:only-of-type {\n",
              "        vertical-align: middle;\n",
              "    }\n",
              "\n",
              "    .dataframe tbody tr th {\n",
              "        vertical-align: top;\n",
              "    }\n",
              "\n",
              "    .dataframe thead th {\n",
              "        text-align: right;\n",
              "    }\n",
              "</style>\n",
              "<table border=\"1\" class=\"dataframe\">\n",
              "  <thead>\n",
              "    <tr style=\"text-align: right;\">\n",
              "      <th></th>\n",
              "      <th>Unnamed: 0</th>\n",
              "      <th>Category</th>\n",
              "      <th>Age</th>\n",
              "      <th>Sex</th>\n",
              "      <th>ALB</th>\n",
              "      <th>ALP</th>\n",
              "      <th>ALT</th>\n",
              "      <th>AST</th>\n",
              "      <th>BIL</th>\n",
              "      <th>CHE</th>\n",
              "      <th>CHOL</th>\n",
              "      <th>CREA</th>\n",
              "      <th>GGT</th>\n",
              "      <th>PROT</th>\n",
              "      <th>label</th>\n",
              "    </tr>\n",
              "  </thead>\n",
              "  <tbody>\n",
              "    <tr>\n",
              "      <th>37</th>\n",
              "      <td>38</td>\n",
              "      <td>0=Blood Donor</td>\n",
              "      <td>0.222222</td>\n",
              "      <td>1</td>\n",
              "      <td>0.502229</td>\n",
              "      <td>0.151493</td>\n",
              "      <td>0.071517</td>\n",
              "      <td>0.065093</td>\n",
              "      <td>0.212776</td>\n",
              "      <td>0.532355</td>\n",
              "      <td>0.287621</td>\n",
              "      <td>0.076557</td>\n",
              "      <td>0.023979</td>\n",
              "      <td>0.743405</td>\n",
              "      <td>0</td>\n",
              "    </tr>\n",
              "    <tr>\n",
              "      <th>351</th>\n",
              "      <td>352</td>\n",
              "      <td>0=Blood Donor</td>\n",
              "      <td>0.222222</td>\n",
              "      <td>0</td>\n",
              "      <td>0.442793</td>\n",
              "      <td>0.177399</td>\n",
              "      <td>0.075216</td>\n",
              "      <td>0.038290</td>\n",
              "      <td>0.014890</td>\n",
              "      <td>0.440294</td>\n",
              "      <td>0.521845</td>\n",
              "      <td>0.056017</td>\n",
              "      <td>0.009746</td>\n",
              "      <td>0.757794</td>\n",
              "      <td>0</td>\n",
              "    </tr>\n",
              "    <tr>\n",
              "      <th>373</th>\n",
              "      <td>374</td>\n",
              "      <td>0=Blood Donor</td>\n",
              "      <td>0.333333</td>\n",
              "      <td>0</td>\n",
              "      <td>0.408618</td>\n",
              "      <td>0.098692</td>\n",
              "      <td>0.047472</td>\n",
              "      <td>0.024569</td>\n",
              "      <td>0.015370</td>\n",
              "      <td>0.350901</td>\n",
              "      <td>0.341019</td>\n",
              "      <td>0.053216</td>\n",
              "      <td>0.019493</td>\n",
              "      <td>0.649880</td>\n",
              "      <td>0</td>\n",
              "    </tr>\n",
              "    <tr>\n",
              "      <th>31</th>\n",
              "      <td>32</td>\n",
              "      <td>0=Blood Donor</td>\n",
              "      <td>0.203704</td>\n",
              "      <td>1</td>\n",
              "      <td>0.463596</td>\n",
              "      <td>0.146311</td>\n",
              "      <td>0.107583</td>\n",
              "      <td>0.061902</td>\n",
              "      <td>0.032661</td>\n",
              "      <td>0.418946</td>\n",
              "      <td>0.336165</td>\n",
              "      <td>0.079358</td>\n",
              "      <td>0.015161</td>\n",
              "      <td>0.812950</td>\n",
              "      <td>0</td>\n",
              "    </tr>\n",
              "    <tr>\n",
              "      <th>190</th>\n",
              "      <td>191</td>\n",
              "      <td>0=Blood Donor</td>\n",
              "      <td>0.481481</td>\n",
              "      <td>1</td>\n",
              "      <td>0.438336</td>\n",
              "      <td>0.128300</td>\n",
              "      <td>0.038841</td>\n",
              "      <td>0.018507</td>\n",
              "      <td>0.031220</td>\n",
              "      <td>0.651768</td>\n",
              "      <td>0.371359</td>\n",
              "      <td>0.060685</td>\n",
              "      <td>0.014078</td>\n",
              "      <td>0.659472</td>\n",
              "      <td>0</td>\n",
              "    </tr>\n",
              "    <tr>\n",
              "      <th>...</th>\n",
              "      <td>...</td>\n",
              "      <td>...</td>\n",
              "      <td>...</td>\n",
              "      <td>...</td>\n",
              "      <td>...</td>\n",
              "      <td>...</td>\n",
              "      <td>...</td>\n",
              "      <td>...</td>\n",
              "      <td>...</td>\n",
              "      <td>...</td>\n",
              "      <td>...</td>\n",
              "      <td>...</td>\n",
              "      <td>...</td>\n",
              "      <td>...</td>\n",
              "      <td>...</td>\n",
              "    </tr>\n",
              "    <tr>\n",
              "      <th>610</th>\n",
              "      <td>611</td>\n",
              "      <td>3=Cirrhosis</td>\n",
              "      <td>0.722222</td>\n",
              "      <td>0</td>\n",
              "      <td>0.254086</td>\n",
              "      <td>1.000000</td>\n",
              "      <td>0.015413</td>\n",
              "      <td>0.318124</td>\n",
              "      <td>0.236311</td>\n",
              "      <td>0.276851</td>\n",
              "      <td>0.591019</td>\n",
              "      <td>0.044534</td>\n",
              "      <td>1.000000</td>\n",
              "      <td>0.568345</td>\n",
              "      <td>3</td>\n",
              "    </tr>\n",
              "    <tr>\n",
              "      <th>260</th>\n",
              "      <td>261</td>\n",
              "      <td>0=Blood Donor</td>\n",
              "      <td>0.629630</td>\n",
              "      <td>1</td>\n",
              "      <td>0.424963</td>\n",
              "      <td>0.110782</td>\n",
              "      <td>0.183416</td>\n",
              "      <td>0.085195</td>\n",
              "      <td>0.031220</td>\n",
              "      <td>0.358239</td>\n",
              "      <td>0.553398</td>\n",
              "      <td>0.095229</td>\n",
              "      <td>0.279548</td>\n",
              "      <td>0.647482</td>\n",
              "      <td>0</td>\n",
              "    </tr>\n",
              "    <tr>\n",
              "      <th>184</th>\n",
              "      <td>185</td>\n",
              "      <td>0=Blood Donor</td>\n",
              "      <td>0.462963</td>\n",
              "      <td>1</td>\n",
              "      <td>0.468053</td>\n",
              "      <td>0.130274</td>\n",
              "      <td>0.087546</td>\n",
              "      <td>0.054244</td>\n",
              "      <td>0.059558</td>\n",
              "      <td>0.577051</td>\n",
              "      <td>0.831311</td>\n",
              "      <td>0.084026</td>\n",
              "      <td>0.037748</td>\n",
              "      <td>0.923261</td>\n",
              "      <td>0</td>\n",
              "    </tr>\n",
              "    <tr>\n",
              "      <th>7</th>\n",
              "      <td>8</td>\n",
              "      <td>0=Blood Donor</td>\n",
              "      <td>0.166667</td>\n",
              "      <td>1</td>\n",
              "      <td>0.405646</td>\n",
              "      <td>0.075500</td>\n",
              "      <td>0.107583</td>\n",
              "      <td>0.065412</td>\n",
              "      <td>0.073487</td>\n",
              "      <td>0.293529</td>\n",
              "      <td>0.384709</td>\n",
              "      <td>0.094296</td>\n",
              "      <td>0.026300</td>\n",
              "      <td>0.534772</td>\n",
              "      <td>0</td>\n",
              "    </tr>\n",
              "    <tr>\n",
              "      <th>56</th>\n",
              "      <td>57</td>\n",
              "      <td>0=Blood Donor</td>\n",
              "      <td>0.259259</td>\n",
              "      <td>1</td>\n",
              "      <td>0.395245</td>\n",
              "      <td>0.131508</td>\n",
              "      <td>0.070284</td>\n",
              "      <td>0.061583</td>\n",
              "      <td>0.040826</td>\n",
              "      <td>0.271514</td>\n",
              "      <td>0.308252</td>\n",
              "      <td>0.085893</td>\n",
              "      <td>0.009127</td>\n",
              "      <td>0.587530</td>\n",
              "      <td>0</td>\n",
              "    </tr>\n",
              "  </tbody>\n",
              "</table>\n",
              "<p>589 rows × 15 columns</p>\n",
              "</div>\n",
              "      <button class=\"colab-df-convert\" onclick=\"convertToInteractive('df-ced871b1-2a97-4fe3-8004-21ecba051f6c')\"\n",
              "              title=\"Convert this dataframe to an interactive table.\"\n",
              "              style=\"display:none;\">\n",
              "        \n",
              "  <svg xmlns=\"http://www.w3.org/2000/svg\" height=\"24px\"viewBox=\"0 0 24 24\"\n",
              "       width=\"24px\">\n",
              "    <path d=\"M0 0h24v24H0V0z\" fill=\"none\"/>\n",
              "    <path d=\"M18.56 5.44l.94 2.06.94-2.06 2.06-.94-2.06-.94-.94-2.06-.94 2.06-2.06.94zm-11 1L8.5 8.5l.94-2.06 2.06-.94-2.06-.94L8.5 2.5l-.94 2.06-2.06.94zm10 10l.94 2.06.94-2.06 2.06-.94-2.06-.94-.94-2.06-.94 2.06-2.06.94z\"/><path d=\"M17.41 7.96l-1.37-1.37c-.4-.4-.92-.59-1.43-.59-.52 0-1.04.2-1.43.59L10.3 9.45l-7.72 7.72c-.78.78-.78 2.05 0 2.83L4 21.41c.39.39.9.59 1.41.59.51 0 1.02-.2 1.41-.59l7.78-7.78 2.81-2.81c.8-.78.8-2.07 0-2.86zM5.41 20L4 18.59l7.72-7.72 1.47 1.35L5.41 20z\"/>\n",
              "  </svg>\n",
              "      </button>\n",
              "      \n",
              "  <style>\n",
              "    .colab-df-container {\n",
              "      display:flex;\n",
              "      flex-wrap:wrap;\n",
              "      gap: 12px;\n",
              "    }\n",
              "\n",
              "    .colab-df-convert {\n",
              "      background-color: #E8F0FE;\n",
              "      border: none;\n",
              "      border-radius: 50%;\n",
              "      cursor: pointer;\n",
              "      display: none;\n",
              "      fill: #1967D2;\n",
              "      height: 32px;\n",
              "      padding: 0 0 0 0;\n",
              "      width: 32px;\n",
              "    }\n",
              "\n",
              "    .colab-df-convert:hover {\n",
              "      background-color: #E2EBFA;\n",
              "      box-shadow: 0px 1px 2px rgba(60, 64, 67, 0.3), 0px 1px 3px 1px rgba(60, 64, 67, 0.15);\n",
              "      fill: #174EA6;\n",
              "    }\n",
              "\n",
              "    [theme=dark] .colab-df-convert {\n",
              "      background-color: #3B4455;\n",
              "      fill: #D2E3FC;\n",
              "    }\n",
              "\n",
              "    [theme=dark] .colab-df-convert:hover {\n",
              "      background-color: #434B5C;\n",
              "      box-shadow: 0px 1px 3px 1px rgba(0, 0, 0, 0.15);\n",
              "      filter: drop-shadow(0px 1px 2px rgba(0, 0, 0, 0.3));\n",
              "      fill: #FFFFFF;\n",
              "    }\n",
              "  </style>\n",
              "\n",
              "      <script>\n",
              "        const buttonEl =\n",
              "          document.querySelector('#df-ced871b1-2a97-4fe3-8004-21ecba051f6c button.colab-df-convert');\n",
              "        buttonEl.style.display =\n",
              "          google.colab.kernel.accessAllowed ? 'block' : 'none';\n",
              "\n",
              "        async function convertToInteractive(key) {\n",
              "          const element = document.querySelector('#df-ced871b1-2a97-4fe3-8004-21ecba051f6c');\n",
              "          const dataTable =\n",
              "            await google.colab.kernel.invokeFunction('convertToInteractive',\n",
              "                                                     [key], {});\n",
              "          if (!dataTable) return;\n",
              "\n",
              "          const docLinkHtml = 'Like what you see? Visit the ' +\n",
              "            '<a target=\"_blank\" href=https://colab.research.google.com/notebooks/data_table.ipynb>data table notebook</a>'\n",
              "            + ' to learn more about interactive tables.';\n",
              "          element.innerHTML = '';\n",
              "          dataTable['output_type'] = 'display_data';\n",
              "          await google.colab.output.renderOutput(dataTable, element);\n",
              "          const docLink = document.createElement('div');\n",
              "          docLink.innerHTML = docLinkHtml;\n",
              "          element.appendChild(docLink);\n",
              "        }\n",
              "      </script>\n",
              "    </div>\n",
              "  </div>\n",
              "  "
            ],
            "text/plain": [
              "     Unnamed: 0       Category       Age  ...       GGT      PROT  label\n",
              "37           38  0=Blood Donor  0.222222  ...  0.023979  0.743405      0\n",
              "351         352  0=Blood Donor  0.222222  ...  0.009746  0.757794      0\n",
              "373         374  0=Blood Donor  0.333333  ...  0.019493  0.649880      0\n",
              "31           32  0=Blood Donor  0.203704  ...  0.015161  0.812950      0\n",
              "190         191  0=Blood Donor  0.481481  ...  0.014078  0.659472      0\n",
              "..          ...            ...       ...  ...       ...       ...    ...\n",
              "610         611    3=Cirrhosis  0.722222  ...  1.000000  0.568345      3\n",
              "260         261  0=Blood Donor  0.629630  ...  0.279548  0.647482      0\n",
              "184         185  0=Blood Donor  0.462963  ...  0.037748  0.923261      0\n",
              "7             8  0=Blood Donor  0.166667  ...  0.026300  0.534772      0\n",
              "56           57  0=Blood Donor  0.259259  ...  0.009127  0.587530      0\n",
              "\n",
              "[589 rows x 15 columns]"
            ]
          },
          "metadata": {},
          "execution_count": 5
        }
      ],
      "source": [
        "df['label']=[item[:2].replace(\"=\",\"\") for item in df['Category']]\n",
        "df['Sex']=[0 if item==\"f\" else 1 for item in df['Sex']]\n",
        "df=normalize(df)\n",
        "df"
      ]
    },
    {
      "cell_type": "markdown",
      "metadata": {
        "id": "_vq7YRHcXw9b"
      },
      "source": [
        "#Split 80% train 20% test"
      ]
    },
    {
      "cell_type": "code",
      "execution_count": 6,
      "metadata": {
        "id": "vxRZTkTNOYA4"
      },
      "outputs": [],
      "source": [
        "x_train=df.iloc[:468,2:-1]\n",
        "# x_train"
      ]
    },
    {
      "cell_type": "code",
      "execution_count": 7,
      "metadata": {
        "id": "R1CcSIvUUmlp"
      },
      "outputs": [],
      "source": [
        "x_test=df.iloc[468:,2:-1]"
      ]
    },
    {
      "cell_type": "code",
      "execution_count": 8,
      "metadata": {
        "id": "zRgJKUmpWQuL"
      },
      "outputs": [],
      "source": [
        "y_train=df.iloc[:468,-1:]"
      ]
    },
    {
      "cell_type": "code",
      "execution_count": 9,
      "metadata": {
        "id": "4gboKrFWXWmZ"
      },
      "outputs": [],
      "source": [
        "y_test=df.iloc[468:,-1:]"
      ]
    },
    {
      "cell_type": "markdown",
      "metadata": {
        "id": "zT-du1m8QMZm"
      },
      "source": [
        "#Transitive Closure"
      ]
    },
    {
      "cell_type": "code",
      "execution_count": 10,
      "metadata": {
        "id": "UwI8o33IQMZn"
      },
      "outputs": [],
      "source": [
        "def transitive(R):\n",
        "  r_o_r = []\n",
        "  for row in R:\n",
        "    RT_row = []\n",
        "    for column in R:\n",
        "        temp = []\n",
        "        for x1, x2 in zip(row, column):\n",
        "            temp.append(min(x1, x2))\n",
        "        RT_row.append(max(temp))\n",
        "    r_o_r.append(RT_row)\n",
        "  RT = np.maximum(R, np.array(r_o_r))\n",
        "  return RT"
      ]
    },
    {
      "cell_type": "markdown",
      "metadata": {
        "id": "mkAP_XidYAXb"
      },
      "source": [
        "#Distance"
      ]
    },
    {
      "cell_type": "code",
      "execution_count": 11,
      "metadata": {
        "id": "Tl-kkpwqdF3E"
      },
      "outputs": [],
      "source": [
        "from math import sqrt\n",
        "import numpy as np\n",
        "def dist(df):\n",
        "  dist=[]\n",
        "  index=0\n",
        "  for item1 in df.itertuples():\n",
        "    dist.append([])\n",
        "    item1=np.array(item1[1:])\n",
        "    for item2 in df.itertuples():\n",
        "      item2=np.array(item2[1:])\n",
        "      sum=0\n",
        "      for i in range(0,len(item2)) :\n",
        "        sum+=(item1[i]-item2[i])**2\n",
        "      dist[index].append(sqrt(sum))\n",
        "    index+=1\n",
        "  normal_dist=dist/np.max(dist)- np.min(dist)\n",
        "  return normal_dist"
      ]
    },
    {
      "cell_type": "markdown",
      "metadata": {
        "id": "3YKRviJ0QMZo"
      },
      "source": [
        "#Similarity class"
      ]
    },
    {
      "cell_type": "code",
      "execution_count": 12,
      "metadata": {
        "id": "-r3f4JH8QMZo"
      },
      "outputs": [],
      "source": [
        "def similar_class(matrix,alpha):\n",
        "    mat=matrix.copy()\n",
        "    mat=transitive(mat)\n",
        "    m,n=np.shape(mat)\n",
        "    for i in range(0,m):\n",
        "        for j in range(0,n):\n",
        "            if mat[i][j]<alpha:\n",
        "                mat[i][j]=1 #small distances are similar\n",
        "            else:\n",
        "                mat[i][j]=0\n",
        "    return mat\n"
      ]
    },
    {
      "cell_type": "markdown",
      "metadata": {
        "id": "MkgVt3v6QMZo"
      },
      "source": [
        "#detect neighbors"
      ]
    },
    {
      "cell_type": "code",
      "execution_count": 13,
      "metadata": {
        "id": "ky99XmeaQMZo"
      },
      "outputs": [],
      "source": [
        "def get_neighbors(y):\n",
        "    label=np.array(y)\n",
        "    label=label.reshape(len(label))\n",
        "    res=[]\n",
        "    index=0\n",
        "    for item in label:\n",
        "        res.append([])\n",
        "        for item2 in label:\n",
        "            if(item==item2):\n",
        "                res[index].append(1)\n",
        "            else:\n",
        "                res[index].append(0)\n",
        "        index+=1\n",
        "    return res"
      ]
    },
    {
      "cell_type": "markdown",
      "metadata": {
        "id": "9PcavpEsQMZp"
      },
      "source": [
        "#find optimum alpha"
      ]
    },
    {
      "cell_type": "code",
      "execution_count": 14,
      "metadata": {
        "id": "94FLvUdCQMZp"
      },
      "outputs": [],
      "source": [
        "train_dis=dist(x_train)\n",
        "test_dis=dist(x_test)"
      ]
    },
    {
      "cell_type": "code",
      "execution_count": 15,
      "metadata": {
        "id": "7OqLw5ITQMZp"
      },
      "outputs": [],
      "source": [
        "neighbor_train=get_neighbors(y_train)\n",
        "neighbor_test=get_neighbors(y_test)"
      ]
    },
    {
      "cell_type": "code",
      "execution_count": 16,
      "metadata": {
        "id": "9N_K8AvPQMZp"
      },
      "outputs": [],
      "source": [
        "def xfrange(start, stop, step):\n",
        "    i = 0\n",
        "    while start + i * step < stop:\n",
        "        yield start + i * step\n",
        "        i += 1"
      ]
    },
    {
      "cell_type": "code",
      "execution_count": 17,
      "metadata": {
        "colab": {
          "base_uri": "https://localhost:8080/",
          "height": 265
        },
        "id": "j2yZlFezQMZq",
        "outputId": "ffd73c19-bb23-4b83-9052-c38f2883e512"
      },
      "outputs": [
        {
          "output_type": "display_data",
          "data": {
            "image/png": "[encoded data removed]",
            "text/plain": [
              "<Figure size 432x288 with 1 Axes>"
            ]
          },
          "metadata": {
            "needs_background": "light"
          }
        }
      ],
      "source": [
        "import matplotlib.pyplot as plt\n",
        "acc=[]\n",
        "for alpha in xfrange(0,1,0.01):\n",
        "    similar_train=similar_class(train_dis,alpha)\n",
        "    acc.append((alpha,np.mean(neighbor_train==similar_train)))\n",
        "plt.scatter([item[0] for item in acc],[item[1] for item in acc])\n",
        "def sort_key(e):\n",
        "    return e[1]\n",
        "acc.sort(key=sort_key)\n",
        "acc.reverse()"
      ]
    },
    {
      "cell_type": "markdown",
      "metadata": {
        "id": "u6CDLQ96QMZq"
      },
      "source": [
        "#print accuracy"
      ]
    },
    {
      "cell_type": "code",
      "execution_count": 18,
      "metadata": {
        "colab": {
          "base_uri": "https://localhost:8080/"
        },
        "id": "UhkMhKHWQMZq",
        "outputId": "004dc3c9-12ef-407a-8c22-59298e2e2ad1"
      },
      "outputs": [
        {
          "output_type": "stream",
          "name": "stdout",
          "text": [
            "(0.97, 0.7974285923003872)\n"
          ]
        }
      ],
      "source": [
        "print(acc[1])"
      ]
    },
    {
      "cell_type": "code",
      "execution_count": 19,
      "metadata": {
        "colab": {
          "base_uri": "https://localhost:8080/"
        },
        "id": "-j7IfopmQMZq",
        "outputId": "39603383-da84-473c-bf20-b5b81d880072"
      },
      "outputs": [
        {
          "output_type": "execute_result",
          "data": {
            "text/plain": [
              "0.8151765589782118"
            ]
          },
          "metadata": {},
          "execution_count": 19
        }
      ],
      "source": [
        "similar_test=similar_class(test_dis,acc[1][0])\n",
        "np.mean(neighbor_test==similar_test)"
      ]
    },
    {
      "cell_type": "code",
      "execution_count": 19,
      "metadata": {
        "id": "-UWFadbzQMZr"
      },
      "outputs": [],
      "source": [
        ""
      ]
    }
  ],
  "metadata": {
    "colab": {
      "collapsed_sections": [],
      "name": "fuzzy_p1.ipynb",
      "provenance": []
    },
    "kernelspec": {
      "display_name": "Python 3",
      "name": "python3"
    },
    "language_info": {
      "codemirror_mode": {
        "name": "ipython",
        "version": 3
      },
      "file_extension": ".py",
      "mimetype": "text/x-python",
      "name": "python",
      "nbconvert_exporter": "python",
      "pygments_lexer": "ipython3",
      "version": "3.10.0"
    }
  },
  "nbformat": 4,
  "nbformat_minor": 0
}