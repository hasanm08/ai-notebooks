{
  "nbformat": 4,
  "nbformat_minor": 0,
  "metadata": {
    "colab": {
      "name": "softmax.ipynb",
      "provenance": [],
      "collapsed_sections": [],
      "toc_visible": true,
      "include_colab_link": true
    },
    "kernelspec": {
      "name": "python3",
      "display_name": "Python 3"
    },
    "language_info": {
      "name": "python"
    }
  },
  "cells": [
    {
      "cell_type": "markdown",
      "metadata": {
        "id": "view-in-github",
        "colab_type": "text"
      },
      "source": [
        "<a href=\"https://colab.research.google.com/github/hasanm08/ai-notebooks/blob/main/softmax.ipynb\" target=\"_parent\"><img src=\"https://colab.research.google.com/assets/colab-badge.svg\" alt=\"Open In Colab\"/></a>"
      ]
    },
    {
      "cell_type": "code",
      "metadata": {
        "id": "NOFy2oyyV_tB"
      },
      "source": [
        "import sklearn\n",
        "import numpy as np\n",
        "import pandas as pd\n",
        "import matplotlib.pyplot as plt\n"
      ],
      "execution_count": null,
      "outputs": []
    },
    {
      "cell_type": "markdown",
      "metadata": {
        "id": "FCXNksG5HQIH"
      },
      "source": [
        "##Pre Proccessing"
      ]
    },
    {
      "cell_type": "code",
      "metadata": {
        "colab": {
          "base_uri": "https://localhost:8080/"
        },
        "id": "yd57MACXCE9_",
        "outputId": "81fa576e-891e-4101-a933-c0061a28f8e2"
      },
      "source": [
        "#download dataset\n",
        "!wget https://archive.ics.uci.edu/ml/machine-learning-databases/iris/iris.data 'iris.data'"
      ],
      "execution_count": null,
      "outputs": [
        {
          "output_type": "stream",
          "name": "stdout",
          "text": [
            "--2021-12-09 07:20:14--  https://archive.ics.uci.edu/ml/machine-learning-databases/iris/iris.data\n",
            "Resolving archive.ics.uci.edu (archive.ics.uci.edu)... 128.195.10.252\n",
            "Connecting to archive.ics.uci.edu (archive.ics.uci.edu)|128.195.10.252|:443... connected.\n",
            "HTTP request sent, awaiting response... 200 OK\n",
            "Length: 4551 (4.4K) [application/x-httpd-php]\n",
            "Saving to: ‘iris.data’\n",
            "\n",
            "\riris.data             0%[                    ]       0  --.-KB/s               \riris.data           100%[===================>]   4.44K  --.-KB/s    in 0s      \n",
            "\n",
            "2021-12-09 07:20:14 (93.4 MB/s) - ‘iris.data’ saved [4551/4551]\n",
            "\n",
            "--2021-12-09 07:20:14--  http://iris.data/\n",
            "Resolving iris.data (iris.data)... failed: Name or service not known.\n",
            "wget: unable to resolve host address ‘iris.data’\n",
            "FINISHED --2021-12-09 07:20:14--\n",
            "Total wall clock time: 0.2s\n",
            "Downloaded: 1 files, 4.4K in 0s (93.4 MB/s)\n"
          ]
        }
      ]
    },
    {
      "cell_type": "code",
      "metadata": {
        "id": "tPsaqEvpbFci",
        "colab": {
          "base_uri": "https://localhost:8080/",
          "height": 424
        },
        "outputId": "6787eae8-2e99-465b-c85e-d76a8928542b"
      },
      "source": [
        "\n",
        "irisdf = pd.read_csv('/content/iris.data' , delimiter=',' )\n",
        "irisdf = irisdf.sample(frac = 1)#shuffle df\n",
        "irisdf"
      ],
      "execution_count": null,
      "outputs": [
        {
          "output_type": "execute_result",
          "data": {
            "text/html": [
              "<div>\n",
              "<style scoped>\n",
              "    .dataframe tbody tr th:only-of-type {\n",
              "        vertical-align: middle;\n",
              "    }\n",
              "\n",
              "    .dataframe tbody tr th {\n",
              "        vertical-align: top;\n",
              "    }\n",
              "\n",
              "    .dataframe thead th {\n",
              "        text-align: right;\n",
              "    }\n",
              "</style>\n",
              "<table border=\"1\" class=\"dataframe\">\n",
              "  <thead>\n",
              "    <tr style=\"text-align: right;\">\n",
              "      <th></th>\n",
              "      <th>5.1</th>\n",
              "      <th>3.5</th>\n",
              "      <th>1.4</th>\n",
              "      <th>0.2</th>\n",
              "      <th>Iris-setosa</th>\n",
              "    </tr>\n",
              "  </thead>\n",
              "  <tbody>\n",
              "    <tr>\n",
              "      <th>26</th>\n",
              "      <td>5.2</td>\n",
              "      <td>3.5</td>\n",
              "      <td>1.5</td>\n",
              "      <td>0.2</td>\n",
              "      <td>Iris-setosa</td>\n",
              "    </tr>\n",
              "    <tr>\n",
              "      <th>88</th>\n",
              "      <td>5.5</td>\n",
              "      <td>2.5</td>\n",
              "      <td>4.0</td>\n",
              "      <td>1.3</td>\n",
              "      <td>Iris-versicolor</td>\n",
              "    </tr>\n",
              "    <tr>\n",
              "      <th>34</th>\n",
              "      <td>5.0</td>\n",
              "      <td>3.2</td>\n",
              "      <td>1.2</td>\n",
              "      <td>0.2</td>\n",
              "      <td>Iris-setosa</td>\n",
              "    </tr>\n",
              "    <tr>\n",
              "      <th>147</th>\n",
              "      <td>6.2</td>\n",
              "      <td>3.4</td>\n",
              "      <td>5.4</td>\n",
              "      <td>2.3</td>\n",
              "      <td>Iris-virginica</td>\n",
              "    </tr>\n",
              "    <tr>\n",
              "      <th>138</th>\n",
              "      <td>6.9</td>\n",
              "      <td>3.1</td>\n",
              "      <td>5.4</td>\n",
              "      <td>2.1</td>\n",
              "      <td>Iris-virginica</td>\n",
              "    </tr>\n",
              "    <tr>\n",
              "      <th>...</th>\n",
              "      <td>...</td>\n",
              "      <td>...</td>\n",
              "      <td>...</td>\n",
              "      <td>...</td>\n",
              "      <td>...</td>\n",
              "    </tr>\n",
              "    <tr>\n",
              "      <th>53</th>\n",
              "      <td>6.5</td>\n",
              "      <td>2.8</td>\n",
              "      <td>4.6</td>\n",
              "      <td>1.5</td>\n",
              "      <td>Iris-versicolor</td>\n",
              "    </tr>\n",
              "    <tr>\n",
              "      <th>129</th>\n",
              "      <td>7.4</td>\n",
              "      <td>2.8</td>\n",
              "      <td>6.1</td>\n",
              "      <td>1.9</td>\n",
              "      <td>Iris-virginica</td>\n",
              "    </tr>\n",
              "    <tr>\n",
              "      <th>77</th>\n",
              "      <td>6.0</td>\n",
              "      <td>2.9</td>\n",
              "      <td>4.5</td>\n",
              "      <td>1.5</td>\n",
              "      <td>Iris-versicolor</td>\n",
              "    </tr>\n",
              "    <tr>\n",
              "      <th>87</th>\n",
              "      <td>5.6</td>\n",
              "      <td>3.0</td>\n",
              "      <td>4.1</td>\n",
              "      <td>1.3</td>\n",
              "      <td>Iris-versicolor</td>\n",
              "    </tr>\n",
              "    <tr>\n",
              "      <th>128</th>\n",
              "      <td>7.2</td>\n",
              "      <td>3.0</td>\n",
              "      <td>5.8</td>\n",
              "      <td>1.6</td>\n",
              "      <td>Iris-virginica</td>\n",
              "    </tr>\n",
              "  </tbody>\n",
              "</table>\n",
              "<p>149 rows × 5 columns</p>\n",
              "</div>"
            ],
            "text/plain": [
              "     5.1  3.5  1.4  0.2      Iris-setosa\n",
              "26   5.2  3.5  1.5  0.2      Iris-setosa\n",
              "88   5.5  2.5  4.0  1.3  Iris-versicolor\n",
              "34   5.0  3.2  1.2  0.2      Iris-setosa\n",
              "147  6.2  3.4  5.4  2.3   Iris-virginica\n",
              "138  6.9  3.1  5.4  2.1   Iris-virginica\n",
              "..   ...  ...  ...  ...              ...\n",
              "53   6.5  2.8  4.6  1.5  Iris-versicolor\n",
              "129  7.4  2.8  6.1  1.9   Iris-virginica\n",
              "77   6.0  2.9  4.5  1.5  Iris-versicolor\n",
              "87   5.6  3.0  4.1  1.3  Iris-versicolor\n",
              "128  7.2  3.0  5.8  1.6   Iris-virginica\n",
              "\n",
              "[149 rows x 5 columns]"
            ]
          },
          "metadata": {},
          "execution_count": 25
        }
      ]
    },
    {
      "cell_type": "code",
      "metadata": {
        "id": "hQ0szvAjIvws"
      },
      "source": [
        "def parse_label(title):\n",
        "  if title==\"Iris-setosa\":\n",
        "    return 0\n",
        "  elif title==\"Iris-versicolor\":\n",
        "    return 1\n",
        "  else:\n",
        "    return 2"
      ],
      "execution_count": null,
      "outputs": []
    },
    {
      "cell_type": "markdown",
      "metadata": {
        "id": "2swB2SGMRhzd"
      },
      "source": [
        "##Softmax\n",
        "![image.png](data:image/png;base64,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)"
      ]
    },
    {
      "cell_type": "code",
      "metadata": {
        "id": "WHAYzadKHVjj"
      },
      "source": [
        "X_train=np.array(irisdf.iloc[: , :-1])[int(len(iris)*0.8):]\n",
        "Y_train=np.array(irisdf.iloc[: , -1])[int(len(iris)*0.8):]\n",
        "Y_train=[parse_label(item) for item in Y_train]\n",
        "\n",
        "X_test=np.array(irisdf.iloc[: , :-1])[:int(len(iris)*0.2)]\n",
        "Y_test=np.array(irisdf.iloc[: , -1])[:int(len(iris)*0.2)]\n",
        "Y_test=[parse_label(item) for item in Y_test]"
      ],
      "execution_count": null,
      "outputs": []
    },
    {
      "cell_type": "code",
      "metadata": {
        "id": "HpUyL92DRk4u"
      },
      "source": [
        "def one_hot(y, c):\n",
        "    \n",
        "    # y--> label.\n",
        "    # c--> Number of classes.\n",
        "    \n",
        "    y_hot = np.zeros((len(y), c))\n",
        "    # Putting 1 for column where the label is,\n",
        "    # Using multidimensional indexing.\n",
        "    #note: np.arrange(4)= [1,2,3]\n",
        "    y_hot[np.arange(len(y)), y] = 1\n",
        "    \n",
        "    return y_hot"
      ],
      "execution_count": null,
      "outputs": []
    },
    {
      "cell_type": "code",
      "metadata": {
        "id": "nlFjPRslRzlS"
      },
      "source": [
        "def softmax(z):\n",
        "    \n",
        "    # z--> linear part.\n",
        "    \n",
        "    # subtracting the max of z for numerical stability.\n",
        "    exp = np.exp(z - np.max(z))\n",
        "    \n",
        "    # Calculating softmax for all examples.\n",
        "    for i in range(len(z)):\n",
        "        exp[i] =exp[i] / np.sum(exp[i])\n",
        "        \n",
        "    return exp"
      ],
      "execution_count": null,
      "outputs": []
    },
    {
      "cell_type": "code",
      "metadata": {
        "id": "c5XrLyENSHiw"
      },
      "source": [
        "def fit(X, y, lr, c, epsilon):\n",
        "    m, n = X.shape\n",
        "    w = np.random.random((n, c))\n",
        "    b = np.random.random(c)\n",
        "    loss_list = []\n",
        "    epoch=0\n",
        "    flag=True\n",
        "    while flag:\n",
        "        z = np.dot(X,w) + b\n",
        "        y_hat = softmax(z)\n",
        "        y_hot = one_hot(y, c)\n",
        "        #Gradient\n",
        "        w_grad = (1/m)*np.dot(X.T, (y_hat - y_hot)) \n",
        "        b_grad = (1/m)*np.sum(y_hat - y_hot)\n",
        "        #Update\n",
        "        w = w - lr*w_grad\n",
        "        b = b - lr*b_grad \n",
        "        loss = -np.mean(np.log(y_hat[np.arange(len(y)), y]))\n",
        "        flag=  loss>epsilon\n",
        "        loss_list.append(loss)\n",
        "        \n",
        "        print('Epoch {epoch}==> Loss = {loss}'\n",
        "              .format(epoch=epoch, loss=loss))\n",
        "        epoch=epoch+1\n",
        "    return w, b, loss_list"
      ],
      "execution_count": null,
      "outputs": []
    },
    {
      "cell_type": "code",
      "metadata": {
        "id": "kxD8yiQ5SMmH"
      },
      "source": [
        "def predict(X, w, b):\n",
        "    z = np.dot(X,w) + b\n",
        "    y_hat = softmax(z)\n",
        "    \n",
        "    # Returning the class with highest probability.\n",
        "    return np.argmax(y_hat, axis=1)"
      ],
      "execution_count": null,
      "outputs": []
    },
    {
      "cell_type": "code",
      "metadata": {
        "id": "VVchMm60XQZe"
      },
      "source": [
        "def accuracy(y, y_hat):\n",
        "    return np.sum(y==y_hat)/len(y) #TP+TN/TP+TN+FP+FN"
      ],
      "execution_count": null,
      "outputs": []
    },
    {
      "cell_type": "code",
      "metadata": {
        "id": "mt2UZIqzXm9g"
      },
      "source": [
        "w, b, l = fit(X_train, Y_train, lr=0.7, c=3, epsilon=0.07)\n",
        "# Accuracy for training set.\n",
        "train_pred = predict(X_train, w, b)\n",
        "print(accuracy(Y_train, train_pred))\n",
        "# Accuracy for test set.\n",
        "test_pred = predict(X_test, w, b)\n",
        "print(accuracy(Y_test, test_pred))"
      ],
      "execution_count": null,
      "outputs": []
    },
    {
      "cell_type": "code",
      "metadata": {
        "id": "qU0DpzzOXvLM"
      },
      "source": [
        ""
      ],
      "execution_count": null,
      "outputs": []
    }
  ]
}